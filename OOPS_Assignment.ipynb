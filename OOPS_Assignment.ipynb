{
  "nbformat": 4,
  "nbformat_minor": 0,
  "metadata": {
    "colab": {
      "provenance": []
    },
    "kernelspec": {
      "name": "python3",
      "display_name": "Python 3"
    },
    "language_info": {
      "name": "python"
    }
  },
  "cells": [
    {
      "cell_type": "markdown",
      "source": [
        "###1. What is Object-Oriented Programming (OOP) ?"
      ],
      "metadata": {
        "id": "tEdA2TdrTaEL"
      }
    },
    {
      "cell_type": "markdown",
      "source": [
        "Object-Oriented Programming (OOP) is a programming paradigm that organizes software design around objects, which are instances of classes. It is based on the concept of combining data and functions (also called methods) that operate on that data into a single unit — the object.\n",
        "\n",
        "In OOP, real-world entities such as a car, employee, or student are represented as objects that have:\n",
        "\n",
        "Attributes (also called properties or fields): These describe the object (e.g., a student’s name or age).\n",
        "\n",
        "Methods: These define behaviors or actions the object can perform (e.g., enroll in a course, calculate marks)."
      ],
      "metadata": {
        "id": "9nceRtQrTk_T"
      }
    },
    {
      "cell_type": "markdown",
      "source": [
        "####2. What is a class in OOPs ?"
      ],
      "metadata": {
        "id": "BJ2v32K1TyL1"
      }
    },
    {
      "cell_type": "markdown",
      "source": [
        "In Object-Oriented Programming (OOP), a class is a blueprint or template for creating objects. It defines a set of attributes (variables) and methods (functions) that the created objects (also called instances) will have.\n",
        "\n",
        "A class does not store actual data; it only describes what an object will contain and what it can do. Once a class is defined, you can create multiple objects from it, each with their own data."
      ],
      "metadata": {
        "id": "GTogPh1oT_Ah"
      }
    },
    {
      "cell_type": "markdown",
      "source": [
        "###3. What is an object in OOPs ?"
      ],
      "metadata": {
        "id": "rKL9JwWvUArY"
      }
    },
    {
      "cell_type": "markdown",
      "source": [
        "In Object-Oriented Programming (OOP), an object is an instance of a class. It is a real-world entity that has attributes (data) and behaviors (methods) defined by its class.\n",
        "\n",
        "When a class is like a blueprint, the object is the actual product built from that blueprint.\n",
        "\n",
        "Each object can have unique values for its attributes, but it shares the structure and behavior defined in the class."
      ],
      "metadata": {
        "id": "yvATDHNnUGVC"
      }
    },
    {
      "cell_type": "markdown",
      "source": [
        "###4. What is the difference between abstraction and encapsulation ?"
      ],
      "metadata": {
        "id": "qhXy42CaUMaX"
      }
    },
    {
      "cell_type": "markdown",
      "source": [
        "Abstraction and Encapsulation are two fundamental concepts of Object-Oriented Programming (OOP), but they serve different purposes.\n",
        "\n",
        "1. Abstraction:\n",
        "Definition: Abstraction means hiding complex implementation details and showing only the essential features of an object.\n",
        "\n",
        "Purpose: To reduce complexity and allow the programmer to focus on what an object does instead of how it does it.\n",
        "\n",
        "How it's achieved: Using abstract classes, interfaces, or methods.\n",
        "\n",
        "Example:\n",
        "\n",
        "When you use a smartphone, you press a button to take a photo — you don’t need to know how the camera hardware works internally."
      ],
      "metadata": {
        "id": "Vky6OLGXUXoM"
      }
    },
    {
      "cell_type": "markdown",
      "source": [
        "###5.  What are dunder methods in Python ?"
      ],
      "metadata": {
        "id": "egslQ8BPUbM0"
      }
    },
    {
      "cell_type": "markdown",
      "source": [
        "Dunder methods (also called magic methods or special methods) in Python are built-in methods with double underscores (__) before and after their names. The word \"dunder\" stands for “double underscore.”\n",
        "\n",
        "These methods are automatically called by Python in certain situations, and they allow custom behavior for objects of user-defined classes.\n"
      ],
      "metadata": {
        "id": "Zg7p5AXjUjRV"
      }
    },
    {
      "cell_type": "markdown",
      "source": [
        "###\"6. Explain the concept of inheritance in OOPs?"
      ],
      "metadata": {
        "id": "JSJw8XWOUk8a"
      }
    },
    {
      "cell_type": "markdown",
      "source": [
        "Inheritance is one of the core concepts of Object-Oriented Programming (OOP). It allows a new class (called the child or derived class) to inherit properties and methods from an existing class (called the parent or base class).\n",
        "\n",
        "This promotes code reusability, as you don’t have to rewrite the same code again in multiple classes. Instead, you can create a general class and then extend it to make more specific classes.\n",
        "\n",
        "Types of Inheritance:\n",
        "Single Inheritance – A child class inherits from one parent class.\n",
        "\n",
        "Multiple Inheritance – A child class inherits from more than one parent class.\n",
        "\n",
        "Multilevel Inheritance – A class inherits from a class which itself inherits from another.\n",
        "\n",
        "Hierarchical Inheritance – Multiple child classes inherit from one parent class.\n",
        "\n",
        "Hybrid Inheritance – A combination of two or more types of inheritance.\n",
        "\n"
      ],
      "metadata": {
        "id": "yuprXZCRU1KJ"
      }
    },
    {
      "cell_type": "markdown",
      "source": [
        "#####7. What is polymorphism in OOPs ?"
      ],
      "metadata": {
        "id": "JaDra8hUU3D1"
      }
    },
    {
      "cell_type": "markdown",
      "source": [
        "Polymorphism is a core concept in Object-Oriented Programming (OOP) that means “many forms.” It allows objects of different classes to be treated as objects of a common superclass, typically through a shared method name.\n",
        "\n",
        "In simple terms, polymorphism allows the same method name to behave differently depending on the object that calls it.\n",
        "\n",
        "Types of Polymorphism:\n",
        "Compile-time Polymorphism (Static)\n",
        "\n",
        "Achieved using method overloading (not directly supported in Python).\n",
        "\n",
        "Example: same method name with different parameters.\n",
        "\n",
        "Run-time Polymorphism (Dynamic)\n",
        "\n",
        "Achieved using method overriding.\n",
        "\n",
        "The child class provides a specific implementation of a method that is already defined in the parent class."
      ],
      "metadata": {
        "id": "-pTWPi65VHry"
      }
    },
    {
      "cell_type": "markdown",
      "source": [
        "###8.  How is encapsulation achieved in Python ?"
      ],
      "metadata": {
        "id": "3AR78WOJVLYn"
      }
    },
    {
      "cell_type": "markdown",
      "source": [
        "Encapsulation in Python is the process of wrapping data (variables) and methods (functions) into a single unit called a class, and restricting direct access to some of the object’s components. It is used to protect data from unauthorized access and ensure control over how data is accessed or modified.\n",
        "\n",
        "Python uses access modifiers to control the visibility of class members:\n",
        "\n",
        "Public members – Accessible from anywhere\n",
        "Defined normally (e.g., self.name)\n",
        "\n",
        "Protected members – Intended for internal use in class and subclasses\n",
        "Start with a single underscore (e.g., _salary)\n",
        "\n",
        "Private members – Not accessible directly from outside the class\n",
        "Start with double underscores (e.g., __marks)\n",
        "\n"
      ],
      "metadata": {
        "id": "RP7YyLuwVUV6"
      }
    },
    {
      "cell_type": "markdown",
      "source": [
        "###9. What is a constructor in Python ?"
      ],
      "metadata": {
        "id": "uUmg9rLBVYbQ"
      }
    },
    {
      "cell_type": "markdown",
      "source": [
        "In Python, a constructor is a special method used to initialize objects when a class is created. It sets up the initial state of the object by assigning values to the object's attributes.\n",
        "\n",
        "The constructor in Python is defined using the __init__() method. This method is automatically called when a new object is created from a class."
      ],
      "metadata": {
        "id": "l_gN1ncZVizQ"
      }
    },
    {
      "cell_type": "markdown",
      "source": [
        "###10.  What are class and static methods in Python ?"
      ],
      "metadata": {
        "id": "ET1UYTlLVkQl"
      }
    },
    {
      "cell_type": "markdown",
      "source": [
        "In Python, class methods and static methods are special types of methods that belong to a class rather than just its instances. They are defined using decorators and serve different purposes.\n",
        "\n",
        " 1. Class Method\n",
        "A class method is a method that operates on the class itself, not on an instance of the class.\n",
        "\n",
        "It takes cls as the first parameter (instead of self).\n",
        "\n",
        "It is defined using the @classmethod decorator.\n",
        "\n",
        "Use Case:\n",
        "Used when you want to access or modify class-level data.\n",
        "\n",
        "2. Static Method\n",
        "A static method does not take self or cls as the first parameter.\n",
        "\n",
        "It is defined using the @staticmethod decorator.\n",
        "\n",
        "It behaves like a regular function, but belongs to the class's namespace.\n",
        "\n",
        "Use Case:\n",
        "Used when some logic is related to the class, but does not need access to class or instance variables."
      ],
      "metadata": {
        "id": "c19A-5JxVvUC"
      }
    },
    {
      "cell_type": "markdown",
      "source": [
        "###11.  What is method overloading in Python ?"
      ],
      "metadata": {
        "id": "ijXT6gvEV2zr"
      }
    },
    {
      "cell_type": "markdown",
      "source": [
        "Method overloading is a feature that allows a class to have multiple methods with the same name but with different parameters (number or type). It is a common feature in many object-oriented languages like Java or C++, but in Python, method overloading is not directly supported.\n",
        "\n",
        "Instead, Python handles method overloading in a different way — by using default arguments or variable-length arguments (*args, **kwargs) to achieve similar behavior.\n",
        "\n"
      ],
      "metadata": {
        "id": "RTP8K_ztWAsl"
      }
    },
    {
      "cell_type": "markdown",
      "source": [
        "###12. What is method overriding in OOPs ?"
      ],
      "metadata": {
        "id": "CPXXXGhsWDfR"
      }
    },
    {
      "cell_type": "markdown",
      "source": [
        "Method overriding is a feature in Object-Oriented Programming (OOP) where a child class provides its own implementation of a method that is already defined in its parent class. The method in the child class overrides (replaces) the version in the parent class.\n",
        "\n",
        "It allows the child class to customize or completely change the behavior of the inherited method.\n",
        "\n",
        "Key Points:\n",
        "Method name must be the same in both parent and child classes.\n",
        "\n",
        "Number and type of parameters must also be the same.\n",
        "\n",
        "Achieved through inheritance.\n",
        "\n",
        "Supports runtime polymorphism (the decision of which method to call is made at runtime)."
      ],
      "metadata": {
        "id": "mlqKU3k6WLml"
      }
    },
    {
      "cell_type": "markdown",
      "source": [
        "###13. What is a property decorator in Python ?"
      ],
      "metadata": {
        "id": "6azv_UiYWQTp"
      }
    },
    {
      "cell_type": "markdown",
      "source": [
        "In Python, the @property decorator is used to define a method as a property, so it can be accessed like an attribute (without parentheses), even though it contains logic like a method.\n",
        "\n",
        "It is part of Python’s support for encapsulation and is commonly used to create getter methods that control access to private attributes.\n",
        "\n",
        "To make a method behave like an attribute\n",
        "\n",
        "To hide internal data and provide read-only or controlled access\n",
        "\n",
        "To allow the use of getter, setter, and deleter without changing the interface"
      ],
      "metadata": {
        "id": "ikIoNCTJWbAa"
      }
    },
    {
      "cell_type": "markdown",
      "source": [
        "###14.  Why is polymorphism important in OOPs ?"
      ],
      "metadata": {
        "id": "c2mfTzgpWf8C"
      }
    },
    {
      "cell_type": "markdown",
      "source": [
        "Polymorphism is a key concept in Object-Oriented Programming (OOP) that allows the same interface (method or operator) to behave differently for different objects. The word polymorphism means “many forms.”\n",
        "\n",
        " Importance of Polymorphism in OOP:\n",
        "Code Reusability:\n",
        "\n",
        "Polymorphism allows you to use the same method name for different types of objects.\n",
        "\n",
        "Reduces duplication and promotes cleaner code.\n",
        "\n",
        "Flexibility and Extensibility:\n",
        "\n",
        "New classes can be added without changing existing code.\n",
        "\n",
        "You can override methods in child classes to provide specific behavior.\n",
        "\n",
        "Supports Runtime Decision Making:\n",
        "\n",
        "Through method overriding, the method that gets executed is determined at runtime, depending on the object.\n",
        "\n",
        "Enables dynamic and flexible behavior.\n",
        "\n",
        "Improves Maintainability:\n",
        "\n",
        "Makes the program easier to extend or modify.\n",
        "\n",
        "You don’t need to change the logic in the main code when new classes are added.\n",
        "\n",
        "Achieves Interface Consistency:\n",
        "\n",
        "Different classes can share a common interface.\n",
        "\n",
        "Users of the code don’t need to know the specific class type — they just call the method."
      ],
      "metadata": {
        "id": "pZnEihGIWppj"
      }
    },
    {
      "cell_type": "markdown",
      "source": [
        "###15. What is an abstract class in Python ?"
      ],
      "metadata": {
        "id": "L2VxxvFYWsu4"
      }
    },
    {
      "cell_type": "markdown",
      "source": [
        "An abstract class in Python is a class that cannot be instantiated directly. It is used as a blueprint for other classes and is meant to be inherited by subclasses.\n",
        "\n",
        "An abstract class can contain:\n",
        "\n",
        "Abstract methods: Methods without any implementation\n",
        "\n",
        "Concrete methods: Methods with actual code (optional)\n",
        "\n",
        "Abstract classes are defined using Python's built-in abc (Abstract Base Classes) module.\n",
        "\n",
        "To enforce a structure in derived classes\n",
        "\n",
        "To ensure that all subclasses implement certain methods\n",
        "\n",
        "To support code consistency and reliability\n",
        "\n"
      ],
      "metadata": {
        "id": "6p4kawg2W2tn"
      }
    },
    {
      "cell_type": "markdown",
      "source": [
        "###16. What are the advantages of OOPs  ?"
      ],
      "metadata": {
        "id": "8aar3srgW7Rf"
      }
    },
    {
      "cell_type": "markdown",
      "source": [
        "Object-Oriented Programming (OOP) is a programming paradigm based on the concept of “objects”, which combine data and functions. OOP offers many advantages that make software development efficient, maintainable, and scalable.\n",
        "\n",
        "Modularity\n",
        "\n",
        "Code is organized into classes and objects, making it easier to manage and understand.\n",
        "\n",
        "Reusability\n",
        "\n",
        "Inheritance allows you to reuse existing code by creating new classes from existing ones, reducing duplication.\n",
        "\n",
        "Encapsulation\n",
        "\n",
        "Data and methods are bundled together, and access to sensitive data can be restricted, improving security.\n",
        "\n",
        "Polymorphism\n",
        "\n",
        "The same function or method name can behave differently for different objects, making code flexible and extensible.\n",
        "\n",
        "Abstraction\n",
        "\n",
        "Allows hiding of complex implementation details and showing only the essential features, improving clarity and reducing complexity.\n",
        "\n",
        "Maintainability\n",
        "\n",
        "Because of modularity and reusability, OOP code is easier to update, debug, and maintain.\n",
        "\n",
        "Scalability\n",
        "\n",
        "OOP makes it easier to scale applications, as you can add new features by creating new classes or modifying existing ones.\n",
        "\n",
        "Real-world Modeling\n",
        "\n",
        "OOP models real-world entities (like Student, Car, BankAccount) making design more intuitive.\n",
        "\n"
      ],
      "metadata": {
        "id": "LzlS960aXF6l"
      }
    },
    {
      "cell_type": "markdown",
      "source": [
        "###17. What is the difference between a class variable and an instance variable ?"
      ],
      "metadata": {
        "id": "5lZGHh8RXK-d"
      }
    },
    {
      "cell_type": "markdown",
      "source": [
        "In Python, class variables and instance variables are both used to store data in a class, but they differ in scope, usage, and behavior.\n",
        "\n",
        "Class Variable:\n",
        "A class variable is shared by all instances of the class.\n",
        "\n",
        "It is defined outside any method, usually directly under the class definition.\n",
        "\n",
        "Changing the value of a class variable will affect all objects, unless overridden in an instance.\n",
        "\n",
        " 2. Instance Variable:\n",
        "An instance variable is unique to each object.\n",
        "\n",
        "It is usually defined inside the __init__() method using self.\n",
        "\n",
        "Changing the value of an instance variable affects only that specific object."
      ],
      "metadata": {
        "id": "ugmAIWIvXQkB"
      }
    },
    {
      "cell_type": "markdown",
      "source": [
        "###18.  What is multiple inheritance in Python ?"
      ],
      "metadata": {
        "id": "IpR4jvedXb6L"
      }
    },
    {
      "cell_type": "markdown",
      "source": [
        "Multiple inheritance is a feature in Python where a class can inherit from more than one parent class. This means a single child class can access attributes and methods from multiple base classes, allowing for greater flexibility and code reuse.\n",
        "\n",
        "class Parent1:\n",
        "    pass\n",
        "\n",
        "class Parent2:\n",
        "    pass\n",
        "\n",
        "class Child(Parent1, Parent2):\n",
        "    pass\n",
        "\n",
        "class Father:\n",
        "    def skills(self):\n",
        "        print(\"Gardening, Carpentry\")\n",
        "\n",
        "class Mother:\n",
        "    def skills(self):\n",
        "        print(\"Cooking, Painting\")\n",
        "\n",
        "class Child(Father, Mother):\n",
        "    pass\n",
        "\n",
        "c = Child()\n",
        "c.skills()  # Output: Gardening, Carpentry\n"
      ],
      "metadata": {
        "id": "4T_hcIn1Xk89"
      }
    },
    {
      "cell_type": "markdown",
      "source": [
        "###19. Explain the purpose of ‘’__str__’ and ‘__repr__’ ‘ methods in Python ?"
      ],
      "metadata": {
        "id": "d1EEkKdlXxUe"
      }
    },
    {
      "cell_type": "markdown",
      "source": [
        "In Python, __str__() and __repr__() are special (dunder) methods used to define how an object should be represented as a string. They are mainly used for printing and debugging.\n",
        "\n",
        " __str__() Method:\n",
        "Purpose: Returns a user-friendly string representation of the object.\n",
        "\n",
        "Called by: print() or str() functions.\n",
        "\n",
        "Goal: Meant for end users.\n",
        "\n",
        "__repr__() Method:\n",
        "Purpose: Returns a developer-friendly string that ideally can recreate the object.\n",
        "\n",
        "Called by: repr() function or when printing an object in the interpreter.\n",
        "\n",
        "Goal: Meant for developers and debugging."
      ],
      "metadata": {
        "id": "IMLBp9RgX5_k"
      }
    },
    {
      "cell_type": "markdown",
      "source": [
        "###20. What is the significance of the ‘super()’ function in Python ?"
      ],
      "metadata": {
        "id": "ktD61pJPYAFj"
      }
    },
    {
      "cell_type": "markdown",
      "source": [
        "The super() function in Python is used to call methods from a parent (or superclass) inside a child (or subclass). It allows for code reuse, especially when dealing with inheritance, and is commonly used to call the constructor (__init__) or other methods of a superclass.\n",
        "\n",
        "Key Purposes of super():\n",
        "Access parent class methods without directly naming the parent class.\n",
        "\n",
        "Support multiple inheritance by following the Method Resolution Order (MRO).\n",
        "\n",
        "Avoid code duplication and promote reusability.\n",
        "\n"
      ],
      "metadata": {
        "id": "acAoXXi_YFjN"
      }
    },
    {
      "cell_type": "markdown",
      "source": [
        "###21.What is the significance of the __del__ method in Python ?"
      ],
      "metadata": {
        "id": "lYKv03_XYLYc"
      }
    },
    {
      "cell_type": "markdown",
      "source": [
        "The __del__ method in Python is a special method known as a destructor. It is called automatically when an object is about to be destroyed (i.e., when there are no more references to it). Its main purpose is to allow the object to clean up resources before it is removed from memory.\n",
        "\n",
        "Automatically when the object is garbage collected.\n",
        "\n",
        "When you explicitly call del object_name."
      ],
      "metadata": {
        "id": "S34s-mhpYVij"
      }
    },
    {
      "cell_type": "markdown",
      "source": [
        "###22. What is the difference between @staticmethod and @classmethod in Python ?"
      ],
      "metadata": {
        "id": "2KyLkyaSYaS4"
      }
    },
    {
      "cell_type": "markdown",
      "source": [
        "In Python, both @staticmethod and @classmethod are decorators used to define methods inside a class that are not regular instance methods. However, they differ in how they interact with the class and its instances.\n",
        "\n",
        ". @staticmethod:\n",
        "It does not take self or cls as the first argument.\n",
        "\n",
        "It cannot access or modify class or instance state.\n",
        "\n",
        "Acts like a regular function, just grouped logically within the class.\n",
        " @classmethod:\n",
        "Takes cls (the class itself) as the first argument.\n",
        "\n",
        "Can access or modify class-level attributes.\n",
        "\n",
        "Often used for factory methods that create instances in different ways."
      ],
      "metadata": {
        "id": "FexB1EDdYi_1"
      }
    },
    {
      "cell_type": "markdown",
      "source": [
        "###23. How does polymorphism work in Python with inheritance ?\n"
      ],
      "metadata": {
        "id": "ozQq67QmYtK2"
      }
    },
    {
      "cell_type": "markdown",
      "source": [
        "Polymorphism is one of the core principles of Object-Oriented Programming (OOP). In Python, it means the same method name can have different implementations depending on the object calling it.\n",
        "\n",
        "When combined with inheritance, polymorphism allows child classes to override methods from the parent class and provide their own specific behavior, while still maintaining a common interface."
      ],
      "metadata": {
        "id": "cUoTfZfbY1oc"
      }
    },
    {
      "cell_type": "markdown",
      "source": [
        "###24. What is method chaining in Python OOPs ?"
      ],
      "metadata": {
        "id": "Xf56sEZTY6g4"
      }
    },
    {
      "cell_type": "markdown",
      "source": [
        "Method chaining is a programming technique where multiple methods are called on the same object in a single line, one after another. Each method returns the object itself (self), allowing the next method to be called directly.\n",
        "\n",
        "This technique leads to more concise and readable code, especially when performing a series of operations on the same object.\n",
        "\n"
      ],
      "metadata": {
        "id": "By_ja1kRY-PU"
      }
    },
    {
      "cell_type": "markdown",
      "source": [
        "###25. What is the purpose of the __call__ method in Python?"
      ],
      "metadata": {
        "id": "u1TgMzs4ZC13"
      }
    },
    {
      "cell_type": "markdown",
      "source": [
        "The __call__ method in Python allows an instance of a class to be called like a function.\n",
        "\n",
        "When you define the __call__ method inside a class, you can \"call\" an object of that class using parentheses () — just like you call a regular function."
      ],
      "metadata": {
        "id": "MBV9ebA6ZLVc"
      }
    },
    {
      "cell_type": "markdown",
      "source": [
        "#Practical Questions"
      ],
      "metadata": {
        "id": "b5shWMITZOkS"
      }
    },
    {
      "cell_type": "markdown",
      "source": [
        "###1.  Create a parent class Animal with a method speak() that prints a generic message. Create a child class Dog that overrides the speak() method to print \"Bark!\"."
      ],
      "metadata": {
        "id": "WNUswQx8ZVdO"
      }
    },
    {
      "cell_type": "code",
      "source": [
        "\n",
        "class Animal:\n",
        "    def speak(self):\n",
        "        print(\"The animal makes a sound.\")\n",
        "\n",
        "class Dog(Animal):\n",
        "    def speak(self):\n",
        "        print(\"Bark!\")\n",
        "\n",
        "\n",
        "generic_animal = Animal()\n",
        "dog = Dog()\n",
        "\n",
        "generic_animal.speak()\n",
        "dog.speak()"
      ],
      "metadata": {
        "colab": {
          "base_uri": "https://localhost:8080/"
        },
        "id": "DezP0M69TiGv",
        "outputId": "efa5c5d6-f65d-4a9c-afc1-ec32aacd8d88"
      },
      "execution_count": 1,
      "outputs": [
        {
          "output_type": "stream",
          "name": "stdout",
          "text": [
            "The animal makes a sound.\n",
            "Bark!\n"
          ]
        }
      ]
    },
    {
      "cell_type": "markdown",
      "source": [
        "###2.  Write a program to create an abstract class Shape with a method area(). Derive classes Circle and Rectangle from it and implement the area() method in both."
      ],
      "metadata": {
        "id": "vz1tZM96ZsWh"
      }
    },
    {
      "cell_type": "code",
      "source": [
        "from abc import ABC, abstractmethod\n",
        "import math\n",
        "\n",
        "class Shape(ABC):\n",
        "    @abstractmethod\n",
        "    def area(self):\n",
        "        pass\n",
        "\n",
        "class Circle(Shape):\n",
        "    def __init__(self, radius):\n",
        "        self.radius = radius\n",
        "\n",
        "    def area(self):\n",
        "        return math.pi * self.radius * self.radius\n",
        "\n",
        "class Rectangle(Shape):\n",
        "    def __init__(self, length, width):\n",
        "        self.length = length\n",
        "        self.width = width\n",
        "\n",
        "    def area(self):\n",
        "        return self.length * self.width\n",
        "\n",
        "circle = Circle(5)\n",
        "rectangle = Rectangle(4, 6)\n",
        "\n",
        "print(\"Area of Circle:\", circle.area())\n",
        "print(\"Area of Rectangle:\", rectangle.area())"
      ],
      "metadata": {
        "colab": {
          "base_uri": "https://localhost:8080/"
        },
        "id": "Ke0Mt55xZm8l",
        "outputId": "dc985dcb-590f-4974-fa90-95cc07ef069c"
      },
      "execution_count": 2,
      "outputs": [
        {
          "output_type": "stream",
          "name": "stdout",
          "text": [
            "Area of Circle: 78.53981633974483\n",
            "Area of Rectangle: 24\n"
          ]
        }
      ]
    },
    {
      "cell_type": "markdown",
      "source": [
        "###3.  Implement a multi-level inheritance scenario where a class Vehicle has an attribute type. Derive a class Car and further derive a class ElectricCar that adds a battery attribute."
      ],
      "metadata": {
        "id": "1t1voohAZ8AE"
      }
    },
    {
      "cell_type": "code",
      "source": [
        "class Vehicle:\n",
        "    def __init__(self, vehicle_type):\n",
        "        self.vehicle_type = vehicle_type\n",
        "\n",
        "class Car(Vehicle):\n",
        "    def __init__(self, vehicle_type, brand):\n",
        "        super().__init__(vehicle_type)\n",
        "        self.brand = brand\n",
        "\n",
        "class ElectricCar(Car):\n",
        "    def __init__(self, vehicle_type, brand, battery_capacity):\n",
        "        super().__init__(vehicle_type, brand)\n",
        "        self.battery_capacity = battery_capacity\n",
        "\n",
        "    def display_info(self):\n",
        "        print(\"Vehicle Type:\", self.vehicle_type)\n",
        "        print(\"Brand:\", self.brand)\n",
        "        print(\"Battery Capacity:\", self.battery_capacity, \"kWh\")\n",
        "\n",
        "e_car = ElectricCar(\"Four-Wheeler\", \"Tesla\", 75)\n",
        "e_car.display_info()"
      ],
      "metadata": {
        "colab": {
          "base_uri": "https://localhost:8080/"
        },
        "id": "r6FsJUnGZ6t9",
        "outputId": "3db39074-8780-4096-c1da-f3ed2c5e5a95"
      },
      "execution_count": 3,
      "outputs": [
        {
          "output_type": "stream",
          "name": "stdout",
          "text": [
            "Vehicle Type: Four-Wheeler\n",
            "Brand: Tesla\n",
            "Battery Capacity: 75 kWh\n"
          ]
        }
      ]
    },
    {
      "cell_type": "markdown",
      "source": [
        "###4.  Demonstrate polymorphism by creating a base class Bird with a method fly(). Create two derived classes Sparrow and Penguin that override the fly() method.\n"
      ],
      "metadata": {
        "id": "6jCdFgViaHtS"
      }
    },
    {
      "cell_type": "code",
      "source": [
        "class Bird:\n",
        "    def fly(self):\n",
        "        print(\"Some birds can fly.\")\n",
        "\n",
        "class Sparrow(Bird):\n",
        "    def fly(self):\n",
        "        print(\"Sparrow flies high in the sky.\")\n",
        "\n",
        "class Penguin(Bird):\n",
        "    def fly(self):\n",
        "        print(\"Penguins cannot fly, they swim.\")\n",
        "\n",
        "birds = [Sparrow(), Penguin()]\n",
        "\n",
        "for bird in birds:\n",
        "    bird.fly()"
      ],
      "metadata": {
        "colab": {
          "base_uri": "https://localhost:8080/"
        },
        "id": "3cwfgGlGaGcT",
        "outputId": "a96520b6-f589-4277-eed8-9b875529e4f7"
      },
      "execution_count": 4,
      "outputs": [
        {
          "output_type": "stream",
          "name": "stdout",
          "text": [
            "Sparrow flies high in the sky.\n",
            "Penguins cannot fly, they swim.\n"
          ]
        }
      ]
    },
    {
      "cell_type": "markdown",
      "source": [
        "###5. Write a program to demonstrate encapsulation by creating a class BankAccount with private attributes balance and methods to deposit, withdraw, and check balance."
      ],
      "metadata": {
        "id": "wMpOHdF6aRbC"
      }
    },
    {
      "cell_type": "code",
      "source": [
        "class BankAccount:\n",
        "    def __init__(self, initial_balance):\n",
        "        self.__balance = initial_balance\n",
        "\n",
        "    def deposit(self, amount):\n",
        "        if amount > 0:\n",
        "            self.__balance += amount\n",
        "\n",
        "    def withdraw(self, amount):\n",
        "        if 0 < amount <= self.__balance:\n",
        "            self.__balance -= amount\n",
        "\n",
        "    def check_balance(self):\n",
        "        return self.__balance\n",
        "\n",
        "account = BankAccount(1000)\n",
        "account.deposit(500)\n",
        "account.withdraw(300)\n",
        "print(\"Current Balance:\", account.check_balance())"
      ],
      "metadata": {
        "colab": {
          "base_uri": "https://localhost:8080/"
        },
        "id": "yC-5RpTJaQTR",
        "outputId": "b1991087-24dd-41f8-b1d0-02dd4e7c15be"
      },
      "execution_count": 5,
      "outputs": [
        {
          "output_type": "stream",
          "name": "stdout",
          "text": [
            "Current Balance: 1200\n"
          ]
        }
      ]
    },
    {
      "cell_type": "markdown",
      "source": [
        "###6.Demonstrate runtime polymorphism using a method play() in a base class Instrument. Derive classes Guitar and Piano that implement their own version of play()."
      ],
      "metadata": {
        "id": "k1FPxsTmabEm"
      }
    },
    {
      "cell_type": "code",
      "source": [
        "class Instrument:\n",
        "    def play(self):\n",
        "        print(\"Playing an instrument.\")\n",
        "\n",
        "class Guitar(Instrument):\n",
        "    def play(self):\n",
        "        print(\"Strumming the guitar.\")\n",
        "\n",
        "class Piano(Instrument):\n",
        "    def play(self):\n",
        "        print(\"Playing the piano.\")\n",
        "\n",
        "instruments = [Guitar(), Piano()]\n",
        "\n",
        "for instrument in instruments:\n",
        "    instrument.play()\n",
        ""
      ],
      "metadata": {
        "colab": {
          "base_uri": "https://localhost:8080/"
        },
        "id": "An-_WCbLaZ5a",
        "outputId": "201b5150-51bb-4d66-e4af-26da87b9b0e1"
      },
      "execution_count": 6,
      "outputs": [
        {
          "output_type": "stream",
          "name": "stdout",
          "text": [
            "Strumming the guitar.\n",
            "Playing the piano.\n"
          ]
        }
      ]
    },
    {
      "cell_type": "markdown",
      "source": [
        "###7.  Create a class MathOperations with a class method add_numbers() to add two numbers and a static method subtract_numbers() to subtract two numbers."
      ],
      "metadata": {
        "id": "9a4gyUbPamQ8"
      }
    },
    {
      "cell_type": "code",
      "source": [
        "class MathOperations:\n",
        "    @classmethod\n",
        "    def add_numbers(cls, a, b):\n",
        "        return a + b\n",
        "\n",
        "    @staticmethod\n",
        "    def subtract_numbers(a, b):\n",
        "        return a - b\n",
        "\n",
        "print(\"Addition:\", MathOperations.add_numbers(10, 5))\n",
        "print(\"Subtraction:\", MathOperations.subtract_numbers(10, 5))"
      ],
      "metadata": {
        "colab": {
          "base_uri": "https://localhost:8080/"
        },
        "id": "NkmGlQiOalAd",
        "outputId": "a1ec1da1-48c8-4a11-e72d-1d55dbcab26b"
      },
      "execution_count": 7,
      "outputs": [
        {
          "output_type": "stream",
          "name": "stdout",
          "text": [
            "Addition: 15\n",
            "Subtraction: 5\n"
          ]
        }
      ]
    },
    {
      "cell_type": "markdown",
      "source": [
        "###8.  Implement a class Person with a class method to count the total number of persons created."
      ],
      "metadata": {
        "id": "k_0YjXvCa3qR"
      }
    },
    {
      "cell_type": "code",
      "source": [
        "class Person:\n",
        "    count = 0\n",
        "\n",
        "    def __init__(self, name):\n",
        "        self.name = name\n",
        "        Person.count += 1\n",
        "\n",
        "    @classmethod\n",
        "    def total_persons(cls):\n",
        "        return cls.count\n",
        "\n",
        "p1 = Person(\"Alice\")\n",
        "p2 = Person(\"Bob\")\n",
        "p3 = Person(\"Charlie\")\n",
        "\n",
        "print(\"Total Persons Created:\", Person.total_persons())"
      ],
      "metadata": {
        "colab": {
          "base_uri": "https://localhost:8080/"
        },
        "id": "8J0_4Ioxa2tm",
        "outputId": "2577e5c8-5047-4d7c-c8b4-386db8298c1d"
      },
      "execution_count": 8,
      "outputs": [
        {
          "output_type": "stream",
          "name": "stdout",
          "text": [
            "Total Persons Created: 3\n"
          ]
        }
      ]
    },
    {
      "cell_type": "markdown",
      "source": [
        "###9.  Write a class Fraction with attributes numerator and denominator. Override the str method to display the fraction as \"numerator/denominator\"."
      ],
      "metadata": {
        "id": "R1ISFTE2bAkv"
      }
    },
    {
      "cell_type": "code",
      "source": [
        "class Fraction:\n",
        "    def __init__(self, numerator, denominator):\n",
        "        self.numerator = numerator\n",
        "        self.denominator = denominator\n",
        "\n",
        "    def __str__(self):\n",
        "        return f\"{self.numerator}/{self.denominator}\"\n",
        "\n",
        "f = Fraction(3, 4)\n",
        "print(f)"
      ],
      "metadata": {
        "colab": {
          "base_uri": "https://localhost:8080/"
        },
        "id": "49V88It0a_zq",
        "outputId": "b55b5d87-9e34-47d1-d7e1-e9cb5213372d"
      },
      "execution_count": 9,
      "outputs": [
        {
          "output_type": "stream",
          "name": "stdout",
          "text": [
            "3/4\n"
          ]
        }
      ]
    },
    {
      "cell_type": "markdown",
      "source": [
        "###10.  Demonstrate operator overloading by creating a class Vector and overriding the add method to add two vectors."
      ],
      "metadata": {
        "id": "fy037UCybLN7"
      }
    },
    {
      "cell_type": "code",
      "source": [
        "class Vector:\n",
        "    def __init__(self, x, y):\n",
        "        self.x = x\n",
        "        self.y = y\n",
        "\n",
        "    def __add__(self, other):\n",
        "        return Vector(self.x + other.x, self.y + other.y)\n",
        "\n",
        "    def __str__(self):\n",
        "        return f\"Vector({self.x}, {self.y})\"\n",
        "\n",
        "v1 = Vector(2, 3)\n",
        "v2 = Vector(4, 5)\n",
        "v3 = v1 + v2\n",
        "\n",
        "print(v3)"
      ],
      "metadata": {
        "colab": {
          "base_uri": "https://localhost:8080/"
        },
        "id": "FEm5Y0HxbKQH",
        "outputId": "f0b728d7-a595-4056-c57b-3827525a2770"
      },
      "execution_count": 10,
      "outputs": [
        {
          "output_type": "stream",
          "name": "stdout",
          "text": [
            "Vector(6, 8)\n"
          ]
        }
      ]
    },
    {
      "cell_type": "markdown",
      "source": [
        "###11.  Create a class Person with attributes name and age. Add a method greet() that prints \"Hello, my name is {name} and I am {age} years old.\"\n"
      ],
      "metadata": {
        "id": "IfvJ90mubVo_"
      }
    },
    {
      "cell_type": "code",
      "source": [
        "class Person:\n",
        "    def __init__(self, name, age):\n",
        "        self.name = name\n",
        "        self.age = age\n",
        "\n",
        "    def greet(self):\n",
        "        print(f\"Hello, my name is {self.name} and I am {self.age} years old.\")\n",
        "\n",
        "p = Person(\"Alice\", 25)\n",
        "p.greet()"
      ],
      "metadata": {
        "colab": {
          "base_uri": "https://localhost:8080/"
        },
        "id": "qPNCWPuUbU4i",
        "outputId": "90701d28-ea66-47b1-c035-53163a4613e0"
      },
      "execution_count": 11,
      "outputs": [
        {
          "output_type": "stream",
          "name": "stdout",
          "text": [
            "Hello, my name is Alice and I am 25 years old.\n"
          ]
        }
      ]
    },
    {
      "cell_type": "markdown",
      "source": [
        "###12.  Implement a class Student with attributes name and grades. Create a method average_grade() to compute the average of the grades."
      ],
      "metadata": {
        "id": "-1yyf2Awbh1f"
      }
    },
    {
      "cell_type": "code",
      "source": [
        "class Student:\n",
        "    def __init__(self, name, grades):\n",
        "        self.name = name\n",
        "        self.grades = grades\n",
        "\n",
        "    def average_grade(self):\n",
        "        return sum(self.grades) / len(self.grades)\n",
        "\n",
        "s = Student(\"John\", [85, 90, 78, 92])\n",
        "print(\"Average Grade:\", s.average_grade())"
      ],
      "metadata": {
        "colab": {
          "base_uri": "https://localhost:8080/"
        },
        "id": "n915A2dbbhHG",
        "outputId": "0c308151-e3c4-42dc-b8b1-607f19dc76b8"
      },
      "execution_count": 12,
      "outputs": [
        {
          "output_type": "stream",
          "name": "stdout",
          "text": [
            "Average Grade: 86.25\n"
          ]
        }
      ]
    },
    {
      "cell_type": "markdown",
      "source": [
        "###13. Create a class Rectangle with methods set_dimensions() to set the dimensions and area() to calculate the area."
      ],
      "metadata": {
        "id": "9ff8WVIUbs-_"
      }
    },
    {
      "cell_type": "code",
      "source": [
        "class Rectangle:\n",
        "    def __init__(self):\n",
        "        self.length = 0\n",
        "        self.width = 0\n",
        "\n",
        "    def set_dimensions(self, length, width):\n",
        "        self.length = length\n",
        "        self.width = width\n",
        "\n",
        "    def area(self):\n",
        "        return self.length * self.width\n",
        "\n",
        "r = Rectangle()\n",
        "r.set_dimensions(5, 3)\n",
        "print(\"Area of Rectangle:\", r.area())"
      ],
      "metadata": {
        "colab": {
          "base_uri": "https://localhost:8080/"
        },
        "id": "-mPWC9z3bsEm",
        "outputId": "f9810834-9d8d-4264-de97-f9a445efb248"
      },
      "execution_count": 13,
      "outputs": [
        {
          "output_type": "stream",
          "name": "stdout",
          "text": [
            "Area of Rectangle: 15\n"
          ]
        }
      ]
    },
    {
      "cell_type": "markdown",
      "source": [
        "###14. Create a class Employee with a method calculate_salary() that computes the salary based on hours worked and hourly rate. Create a derived class Manager that adds a bonus to the salary."
      ],
      "metadata": {
        "id": "kgT2Gmotb5xd"
      }
    },
    {
      "cell_type": "code",
      "source": [
        "class Employee:\n",
        "    def __init__(self, hours_worked, hourly_rate):\n",
        "        self.hours_worked = hours_worked\n",
        "        self.hourly_rate = hourly_rate\n",
        "\n",
        "    def calculate_salary(self):\n",
        "        return self.hours_worked * self.hourly_rate\n",
        "\n",
        "class Manager(Employee):\n",
        "    def __init__(self, hours_worked, hourly_rate, bonus):\n",
        "        super().__init__(hours_worked, hourly_rate)\n",
        "        self.bonus = bonus\n",
        "\n",
        "    def calculate_salary(self):\n",
        "        return super().calculate_salary() + self.bonus\n",
        "\n",
        "e = Employee(40, 200)\n",
        "print(\"Employee Salary:\", e.calculate_salary())\n",
        "\n",
        "m = Manager(40, 200, 5000)\n",
        "print(\"Manager Salary:\", m.calculate_salary())"
      ],
      "metadata": {
        "colab": {
          "base_uri": "https://localhost:8080/"
        },
        "id": "oRyrG0Thb49s",
        "outputId": "3419e100-4d5c-4bb5-e3c3-c551ca7a4e2d"
      },
      "execution_count": 14,
      "outputs": [
        {
          "output_type": "stream",
          "name": "stdout",
          "text": [
            "Employee Salary: 8000\n",
            "Manager Salary: 13000\n"
          ]
        }
      ]
    },
    {
      "cell_type": "markdown",
      "source": [
        "###15.  Create a class Product with attributes name, price, and quantity. Implement a method total_price() that calculates the total price of the product."
      ],
      "metadata": {
        "id": "WDS_PUckcFSj"
      }
    },
    {
      "cell_type": "code",
      "source": [
        "class Product:\n",
        "    def __init__(self, name, price, quantity):\n",
        "        self.name = name\n",
        "        self.price = price\n",
        "        self.quantity = quantity\n",
        "\n",
        "    def total_price(self):\n",
        "        return self.price * self.quantity\n",
        "\n",
        "p = Product(\"Laptop\", 50000, 2)\n",
        "print(\"Total Price:\", p.total_price())"
      ],
      "metadata": {
        "colab": {
          "base_uri": "https://localhost:8080/"
        },
        "id": "6k7uR10EcD_Y",
        "outputId": "0d8cb1fd-3f29-4b22-d9dc-d5bced540f08"
      },
      "execution_count": 15,
      "outputs": [
        {
          "output_type": "stream",
          "name": "stdout",
          "text": [
            "Total Price: 100000\n"
          ]
        }
      ]
    },
    {
      "cell_type": "markdown",
      "source": [
        "####16. Create a class Animal with an abstract method sound(). Create two derived classes Cow and Sheep that implement the sound() method."
      ],
      "metadata": {
        "id": "-NfGCxfFcOzh"
      }
    },
    {
      "cell_type": "code",
      "source": [
        "from abc import ABC, abstractmethod\n",
        "\n",
        "class Animal(ABC):\n",
        "    @abstractmethod\n",
        "    def sound(self):\n",
        "        pass\n",
        "\n",
        "class Cow(Animal):\n",
        "    def sound(self):\n",
        "        return \"Moo\"\n",
        "\n",
        "class Sheep(Animal):\n",
        "    def sound(self):\n",
        "        return \"Baa\"\n",
        "\n",
        "c = Cow()\n",
        "s = Sheep()\n",
        "print(\"Cow:\", c.sound())\n",
        "print(\"Sheep:\", s.sound())"
      ],
      "metadata": {
        "colab": {
          "base_uri": "https://localhost:8080/"
        },
        "id": "JolBIjjtcN6z",
        "outputId": "b9501e2e-561e-4e08-b1be-04c920d1765b"
      },
      "execution_count": 16,
      "outputs": [
        {
          "output_type": "stream",
          "name": "stdout",
          "text": [
            "Cow: Moo\n",
            "Sheep: Baa\n"
          ]
        }
      ]
    },
    {
      "cell_type": "markdown",
      "source": [
        "###17. Create a class Book with attributes title, author, and year_published. Add a method get_book_info() that returns a formatted string with the book's details."
      ],
      "metadata": {
        "id": "tufBM6IacZ-R"
      }
    },
    {
      "cell_type": "code",
      "source": [
        "class Book:\n",
        "    def __init__(self, title, author, year_published):\n",
        "        self.title = title\n",
        "        self.author = author\n",
        "        self.year_published = year_published\n",
        "\n",
        "    def get_book_info(self):\n",
        "        return f\"'{self.title}' by {self.author}, published in {self.year_published}\"\n",
        "\n",
        "b = Book(\"1984\", \"George Orwell\", 1949)\n",
        "print(b.get_book_info())"
      ],
      "metadata": {
        "colab": {
          "base_uri": "https://localhost:8080/"
        },
        "id": "lMXKINPkcZJQ",
        "outputId": "ccf3c50b-021e-4bd9-d80f-fc7d6ed04e49"
      },
      "execution_count": 17,
      "outputs": [
        {
          "output_type": "stream",
          "name": "stdout",
          "text": [
            "'1984' by George Orwell, published in 1949\n"
          ]
        }
      ]
    },
    {
      "cell_type": "markdown",
      "source": [
        "###18. Create a class House with attributes address and price. Create a derived class Mansion that adds an attribute number_of_rooms."
      ],
      "metadata": {
        "id": "70q6tH5_cjcG"
      }
    },
    {
      "cell_type": "code",
      "source": [
        "class House:\n",
        "    def __init__(self, address, price):\n",
        "        self.address = address\n",
        "        self.price = price\n",
        "\n",
        "class Mansion(House):\n",
        "    def __init__(self, address, price, number_of_rooms):\n",
        "        super().__init__(address, price)\n",
        "        self.number_of_rooms = number_of_rooms\n",
        "\n",
        "h = Mansion(\"123 Luxury Lane\", 50000000, 15)\n",
        "print(\"Address:\", h.address)\n",
        "print(\"Price:\", h.price)\n",
        "print(\"Number of Rooms:\", h.number_of_rooms)"
      ],
      "metadata": {
        "colab": {
          "base_uri": "https://localhost:8080/"
        },
        "id": "CFfu_9c8citV",
        "outputId": "abb14598-0054-4bd3-863c-4bef553668fd"
      },
      "execution_count": 18,
      "outputs": [
        {
          "output_type": "stream",
          "name": "stdout",
          "text": [
            "Address: 123 Luxury Lane\n",
            "Price: 50000000\n",
            "Number of Rooms: 15\n"
          ]
        }
      ]
    },
    {
      "cell_type": "code",
      "source": [],
      "metadata": {
        "id": "1RjKbaXNctU0"
      },
      "execution_count": null,
      "outputs": []
    }
  ]
}